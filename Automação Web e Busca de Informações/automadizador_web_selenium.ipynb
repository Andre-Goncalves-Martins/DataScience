{
 "cells": [
  {
   "cell_type": "markdown",
   "metadata": {},
   "source": [
    "# Automação Web e Busca de Informações com Python\n",
    "\n",
    "#### Desafio: \n",
    "\n",
    "Trabalhamos em uma importadora e o preço dos nossos produtos é vinculado a cotação de:\n",
    "- Dólar\n",
    "- Euro\n",
    "- Ouro\n",
    "\n",
    "Precisamos pegar na internet, de forma automática, a cotação desses 3 itens e saber quanto devemos cobrar pelos nossos produtos, considerando uma margem de contribuição que temos na nossa base de dados.\n",
    "\n",
    "Base de Dados: https://drive.google.com/drive/folders/1KmAdo593nD8J9QBaZxPOG1yxHZua4Rtv?usp=sharing\n",
    "\n",
    "Para isso, vamos criar uma automação web:\n",
    "\n",
    "- Usaremos o selenium\n",
    "- Importante: baixar o webdriver"
   ]
  },
  {
   "cell_type": "code",
   "execution_count": null,
   "metadata": {},
   "outputs": [],
   "source": [
    "# Passo 1 - Entrar na internet\n",
    "from selenium import webdriver\n",
    "from selenium.webdriver.common.keys import Keys\n",
    "\n",
    "# para rodar o chrome em 2º plano\n",
    "# from selenium.webdriver.chrome.options import Options\n",
    "# chrome_options = Options()\n",
    "# chrome_options.headless = True \n",
    "# navegador = webdriver.Chrome(options=chrome_options)\n",
    "\n",
    "navegador = webdriver.Chrome()\n",
    "\n",
    "# Passo 2 - Pegar cotação do dólar\n",
    "#entrar no google\n",
    "navegador.get('https://www.google.com/')\n",
    "#pesquisar 'cotação do dolar'\n",
    "navegador.find_element_by_xpath(\n",
    "    '/html/body/div[1]/div[3]/form/div[1]/div[1]/div[1]/div/div[2]/input').send_keys('Cotação dólar')\n",
    "# para encontrar o xpath tem q abrir a página> \n",
    "# Rclick>inspecionar>Lclick(no símbolo lá em cima q tem desenhado um cursor)> passa o mouse em cima de onde vc quer\n",
    "# > Lclick > Rclick(no codigo q ficou azul no lado direito) > Rclick > copy > copy xpath\n",
    "\n",
    "navegador.find_element_by_xpath(\n",
    "    '/html/body/div[1]/div[3]/form/div[1]/div[1]/div[1]/div/div[2]/input').send_keys(Keys.ENTER)\n",
    "# pegar o número que aparece no resultado do google\n",
    "cotacao_dolar = navegador.find_element_by_xpath(\n",
    "    '//*[@id=\"knowledge-currency__updatable-data-column\"]/div[1]/div[2]/span[1]').get_attribute('data-value')\n",
    "\n",
    "# Passo 3 - Pegar cotação do euro\n",
    "#entrar no google\n",
    "navegador.get('https://www.google.com/')\n",
    "#pesquisar 'cotação do dolar'\n",
    "navegador.find_element_by_xpath(\n",
    "    '/html/body/div[1]/div[3]/form/div[1]/div[1]/div[1]/div/div[2]/input').send_keys('Cotação euro')\n",
    "\n",
    "navegador.find_element_by_xpath(\n",
    "    '/html/body/div[1]/div[3]/form/div[1]/div[1]/div[1]/div/div[2]/input').send_keys(Keys.ENTER)\n",
    "# pegar o número que aparece no resultado do google\n",
    "cotacao_euro = navegador.find_element_by_xpath(\n",
    "    '//*[@id=\"knowledge-currency__updatable-data-column\"]/div[1]/div[2]/span[1]').get_attribute('data-value')\n",
    "\n",
    "# Passo 4 - Pegar cotação do ouro\n",
    "#entrar no google\n",
    "navegador.get('https://www.melhorcambio.com/ouro-hoje')\n",
    "#pega a cotação no campo do site\n",
    "cotacao_ouro = navegador.find_element_by_xpath('//*[@id=\"comercial\"]').get_attribute('value')\n",
    "cotacao_ouro = cotacao_ouro.replace(',','.')\n",
    "\n",
    "navegador.quit()"
   ]
  },
  {
   "cell_type": "markdown",
   "metadata": {},
   "source": [
    "### Agora vamos atualiza a nossa base de preços com as novas cotações"
   ]
  },
  {
   "cell_type": "markdown",
   "metadata": {},
   "source": [
    "- Importando a base de dados"
   ]
  },
  {
   "cell_type": "code",
   "execution_count": null,
   "metadata": {
    "scrolled": true
   },
   "outputs": [],
   "source": [
    "import pandas as pd\n",
    "\n",
    "bd = pd.read_excel('Produtos.xlsx')\n",
    "bd"
   ]
  },
  {
   "cell_type": "markdown",
   "metadata": {},
   "source": [
    "- Atualizando os preços e o cálculo do Preço Final"
   ]
  },
  {
   "cell_type": "code",
   "execution_count": null,
   "metadata": {},
   "outputs": [],
   "source": [
    "# atualizar a cotação\n",
    "bd.loc[(bd.Moeda == 'Dólar'),'Cotação'] = float(cotacao_dolar)\n",
    "bd.loc[(bd.Moeda == 'Euro'),'Cotação'] = float(cotacao_euro)\n",
    "bd.loc[(bd.Moeda == 'Ouro'),'Cotação'] = float(cotacao_ouro)\n",
    "\n",
    "# atualizar Preço base Reais\n",
    "bd['Preço Base Reais'] = bd.Cotação * bd['Preço Base Original']\n",
    "\n",
    "# atualizar Preço Final\n",
    "bd['Preço Final'] = bd.Margem * bd['Preço Base Reais']\n",
    "\n",
    "#mudar  o número de casas decimais\n",
    "bd['Cotação'] = bd['Cotação'].map('{:.2f}'.format)\n",
    "bd['Preço Base Reais'] = bd['Preço Base Reais'].map('{:.2f}'.format)\n",
    "bd['Preço Final'] = bd['Preço Final'].map('{:.2f}'.format)\n",
    "display(bd)"
   ]
  },
  {
   "cell_type": "markdown",
   "metadata": {},
   "source": [
    "### Agora vamos exportar a nova base de preços atualizada"
   ]
  },
  {
   "cell_type": "code",
   "execution_count": null,
   "metadata": {},
   "outputs": [],
   "source": [
    "# Passo 6 - Exportar a base de dados\n",
    "bd.to_excel('BaseAtualizada.xlsx', index=False)\n",
    "#index=False para n colocar no novo arquivo uma coluna com os índices q o pandas gera automaticamente"
   ]
  },
  {
   "cell_type": "code",
   "execution_count": null,
   "metadata": {},
   "outputs": [],
   "source": []
  }
 ],
 "metadata": {
  "kernelspec": {
   "display_name": "Python 3",
   "language": "python",
   "name": "python3"
  },
  "language_info": {
   "codemirror_mode": {
    "name": "ipython",
    "version": 3
   },
   "file_extension": ".py",
   "mimetype": "text/x-python",
   "name": "python",
   "nbconvert_exporter": "python",
   "pygments_lexer": "ipython3",
   "version": "3.8.8"
  }
 },
 "nbformat": 4,
 "nbformat_minor": 4
}
